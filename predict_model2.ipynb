{
 "cells": [
  {
   "cell_type": "code",
   "execution_count": 56,
   "id": "86fca27e",
   "metadata": {},
   "outputs": [],
   "source": [
    "import tensorflow\n",
    "from numpy.random import seed\n",
    "seed(101)\n",
    "import pandas as pd\n",
    "import numpy as np\n",
    "\n",
    "\n",
    "from tensorflow.keras.preprocessing.image import ImageDataGenerator\n",
    "from tensorflow.keras.models import Model\n",
    "import itertools\n",
    "import shutil\n",
    "import matplotlib.pyplot as plt\n",
    "%matplotlib inline"
   ]
  },
  {
   "cell_type": "code",
   "execution_count": 57,
   "id": "fd98fb17",
   "metadata": {},
   "outputs": [],
   "source": [
    "import matplotlib\n",
    "from keras.metrics import top_k_categorical_accuracy\n",
    "\n",
    "matplotlib.use('Agg')\n",
    "import os\n",
    "from keras.models import load_model\n",
    "import numpy as np\n",
    "from PIL import Image"
   ]
  },
  {
   "cell_type": "code",
   "execution_count": 58,
   "id": "4899df8d",
   "metadata": {},
   "outputs": [],
   "source": [
    "image_size = 224\n",
    "predict_dir='./predict_image'\n",
    "#predict_dir下面必须再建一层文件夹放要预测的图片\n",
    "#真正图片存放的位置是这样的./predict_image/unpredict/predict.jpg"
   ]
  },
  {
   "cell_type": "code",
   "execution_count": 59,
   "id": "8ced1722",
   "metadata": {},
   "outputs": [],
   "source": [
    "#src:predict_dir\n",
    "def get_inputs(src):\n",
    "    datagen = ImageDataGenerator(\n",
    "    preprocessing_function= tensorflow.keras.applications.mobilenet.preprocess_input)\n",
    "    \n",
    "    predict_batch = datagen.flow_from_directory(predict_dir,\n",
    "                                            target_size=(image_size,image_size),\n",
    "                                            batch_size=1,\n",
    "                                           shuffle=False)\n",
    "    return predict_batch\n"
   ]
  },
  {
   "cell_type": "code",
   "execution_count": 60,
   "id": "1db290ea",
   "metadata": {},
   "outputs": [],
   "source": [
    "def top_2_accuracy(y_true, y_pred):\n",
    "    return top_k_categorical_accuracy(y_true, y_pred, k=2)\n",
    "\n",
    "def top_3_accuracy(y_true, y_pred):\n",
    "    return top_k_categorical_accuracy(y_true, y_pred, k=3)\n"
   ]
  },
  {
   "cell_type": "code",
   "execution_count": 61,
   "id": "d64d94df",
   "metadata": {},
   "outputs": [],
   "source": [
    "\n",
    "def predict(predict_batch):\n",
    "    #加载模型h5文件\n",
    "    model = load_model(\"./model2.h5\", custom_objects={'top_2_accuracy': top_2_accuracy,\n",
    "                                                          'top_3_accuracy': top_3_accuracy})\n",
    "    \n",
    "    pre_y = model.predict(predict_batch,steps=1, verbose=1)\n",
    "    \n",
    "    labels = ['akiec', 'bcc', 'bkl', 'df', 'mel','nv', 'vasc']\n",
    "\n",
    "    #返回最大数的索引\n",
    "    y_pred = np.argmax(pre_y)\n",
    "    label_of_y=labels[y_pred]\n",
    "    return label_of_y\n",
    "\n",
    "\n"
   ]
  },
  {
   "cell_type": "code",
   "execution_count": 62,
   "id": "23211daf",
   "metadata": {},
   "outputs": [
    {
     "name": "stdout",
     "output_type": "stream",
     "text": [
      "Found 1 images belonging to 1 classes.\n",
      "WARNING:tensorflow:6 out of the last 8848 calls to <function Model.make_predict_function.<locals>.predict_function at 0x0000027F14658378> triggered tf.function retracing. Tracing is expensive and the excessive number of tracings could be due to (1) creating @tf.function repeatedly in a loop, (2) passing tensors with different shapes, (3) passing Python objects instead of tensors. For (1), please define your @tf.function outside of the loop. For (2), @tf.function has experimental_relax_shapes=True option that relaxes argument shapes that can avoid unnecessary retracing. For (3), please refer to https://www.tensorflow.org/guide/function#controlling_retracing and https://www.tensorflow.org/api_docs/python/tf/function for  more details.\n",
      "1/1 [==============================] - 2s 2s/step\n"
     ]
    },
    {
     "data": {
      "text/plain": [
       "'mel'"
      ]
     },
     "execution_count": 62,
     "metadata": {},
     "output_type": "execute_result"
    }
   ],
   "source": [
    "#预测\n",
    "\n",
    "predict_batch= get_inputs(predict_dir)\n",
    "label_of_y=predict(predict_batch)\n",
    "label_of_y"
   ]
  },
  {
   "cell_type": "code",
   "execution_count": null,
   "id": "0f4d14eb",
   "metadata": {},
   "outputs": [],
   "source": [
    "#[Actinic Keratoses , Basal cell carcinoma, Benign keratosis, Dermatofibroma,Melanoma , Melanocytic nevi, Vascular skin]"
   ]
  }
 ],
 "metadata": {
  "kernelspec": {
   "display_name": "Python 3",
   "language": "python",
   "name": "python3"
  },
  "language_info": {
   "codemirror_mode": {
    "name": "ipython",
    "version": 3
   },
   "file_extension": ".py",
   "mimetype": "text/x-python",
   "name": "python",
   "nbconvert_exporter": "python",
   "pygments_lexer": "ipython3",
   "version": "3.7.1"
  }
 },
 "nbformat": 4,
 "nbformat_minor": 5
}